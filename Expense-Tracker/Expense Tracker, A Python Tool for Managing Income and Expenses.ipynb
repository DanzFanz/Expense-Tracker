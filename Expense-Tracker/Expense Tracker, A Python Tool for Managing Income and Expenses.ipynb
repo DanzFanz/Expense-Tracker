{
 "cells": [
  {
   "cell_type": "code",
   "execution_count": 19,
   "metadata": {},
   "outputs": [],
   "source": [
    "#imports\n",
    "import math\n",
    "import pandas as pd\n"
   ]
  },
  {
   "cell_type": "code",
   "execution_count": 20,
   "metadata": {},
   "outputs": [
    {
     "name": "stdout",
     "output_type": "stream",
     "text": [
      "\n",
      "*** Monthly Summary ***\n",
      "Total Income: $3500.00\n",
      "Total Expenses: $1550.00\n",
      "Surplus/Deficit: $1950.00\n",
      "Data successfully exported to expense_tracker.csv\n"
     ]
    }
   ],
   "source": [
    "\n",
    "\n",
    "class ExpenseTracker:\n",
    "    def __init__(self):\n",
    "        self.data = pd.DataFrame(columns=[\"Date\", \"Category\", \"Amount\", \"Type\"])  # 'Type' is Income or Expense\n",
    "\n",
    "    def add_record(self, date, category, amount, record_type):\n",
    "        \"\"\"\n",
    "        Adds a new record to the tracker.\n",
    "        \n",
    "        :param date: Date of the record (YYYY-MM-DD).\n",
    "        :param category: Category of the expense or income.\n",
    "        :param amount: Amount of the record.\n",
    "        :param record_type: \"Income\" or \"Expense\".\n",
    "        \"\"\"\n",
    "        if record_type not in [\"Income\", \"Expense\"]:\n",
    "            raise ValueError(\"Record type must be 'Income' or 'Expense'.\")\n",
    "        \n",
    "        self.data = pd.concat([self.data, pd.DataFrame({\n",
    "            \"Date\": [date],\n",
    "            \"Category\": [category],\n",
    "            \"Amount\": [amount],\n",
    "            \"Type\": [record_type]\n",
    "        })], ignore_index=True)\n",
    "\n",
    "    def calculate_summary(self):\n",
    "        \"\"\"\n",
    "        Calculates the monthly summary including total income, expenses, and the surplus/deficit.\n",
    "        \n",
    "        :return: A dictionary with the summary.\n",
    "        \"\"\"\n",
    "        total_income = self.data[self.data[\"Type\"] == \"Income\"][\"Amount\"].sum()\n",
    "        total_expenses = self.data[self.data[\"Type\"] == \"Expense\"][\"Amount\"].sum()\n",
    "        surplus_deficit = total_income - total_expenses\n",
    "\n",
    "        return {\n",
    "            \"Total Income\": total_income,\n",
    "            \"Total Expenses\": total_expenses,\n",
    "            \"Surplus/Deficit\": surplus_deficit\n",
    "        }\n",
    "\n",
    "    def display_summary(self):\n",
    "        \"\"\"\n",
    "        Displays the monthly summary.\n",
    "        \"\"\"\n",
    "        summary = self.calculate_summary()\n",
    "        print(\"\\n*** Monthly Summary ***\")\n",
    "        print(f\"Total Income: ${summary['Total Income']:.2f}\")\n",
    "        print(f\"Total Expenses: ${summary['Total Expenses']:.2f}\")\n",
    "        print(f\"Surplus/Deficit: ${summary['Surplus/Deficit']:.2f}\")\n",
    "\n",
    "    def export_to_csv(self, filename=\"expense_tracker.csv\"):\n",
    "        \"\"\"\n",
    "        Exports the records to a CSV file.\n",
    "        \n",
    "        :param filename: Name of the file to export to.\n",
    "        \"\"\"\n",
    "        self.data.to_csv(filename, index=False)\n",
    "        print(f\"Data successfully exported to {filename}\")\n",
    "        \n",
    "    def clear_budget(self):\n",
    "        \"\"\"\n",
    "        Clears all records in the tracker.\n",
    "        \"\"\"\n",
    "        self.data = pd.DataFrame(columns=[\"Date\", \"Category\", \"Amount\", \"Type\"])\n",
    "        print(\"All records have been cleared.\")\n",
    "\n",
    "# Example Usage\n",
    "if __name__ == \"__main__\":\n",
    "    tracker = ExpenseTracker()\n",
    "\n",
    "    # Adding records\n",
    "    tracker.add_record(\"2025-01-01\", \"Salary\", 3000, \"Income\")\n",
    "    tracker.add_record(\"2025-01-05\", \"Groceries\", 200, \"Expense\")\n",
    "    tracker.add_record(\"2025-01-10\", \"Rent\", 1200, \"Expense\")\n",
    "    tracker.add_record(\"2025-01-15\", \"Freelance\", 500, \"Income\")\n",
    "    tracker.add_record(\"2025-01-20\", \"Utilities\", 150, \"Expense\")\n",
    "\n",
    "    # Displaying the summary\n",
    "    tracker.display_summary()\n",
    "\n",
    "    # Exporting data to CSV\n",
    "    tracker.export_to_csv()\n"
   ]
  },
  {
   "cell_type": "code",
   "execution_count": 21,
   "metadata": {},
   "outputs": [],
   "source": [
    "#Example Usage \n",
    "tracker.add_record(\"2025-01-23\", \"Salary\", 3000.00, \"Income\")"
   ]
  },
  {
   "cell_type": "code",
   "execution_count": 22,
   "metadata": {},
   "outputs": [],
   "source": [
    "\n",
    "tracker.add_record(\"2024-01-23\", \"Rent\", 300.00, \"Expense\")"
   ]
  },
  {
   "cell_type": "code",
   "execution_count": 23,
   "metadata": {},
   "outputs": [
    {
     "name": "stdout",
     "output_type": "stream",
     "text": [
      "\n",
      "*** Monthly Summary ***\n",
      "Total Income: $6500.00\n",
      "Total Expenses: $1850.00\n",
      "Surplus/Deficit: $4650.00\n"
     ]
    }
   ],
   "source": [
    "tracker.display_summary()"
   ]
  },
  {
   "cell_type": "code",
   "execution_count": 31,
   "metadata": {},
   "outputs": [
    {
     "name": "stdout",
     "output_type": "stream",
     "text": [
      "All records have been cleared.\n"
     ]
    }
   ],
   "source": [
    "tracker.clear_budget()"
   ]
  },
  {
   "cell_type": "code",
   "execution_count": 32,
   "metadata": {},
   "outputs": [
    {
     "name": "stdout",
     "output_type": "stream",
     "text": [
      "\n",
      "*** Monthly Summary ***\n",
      "Total Income: $0.00\n",
      "Total Expenses: $0.00\n",
      "Surplus/Deficit: $0.00\n"
     ]
    }
   ],
   "source": [
    "tracker.display_summary()"
   ]
  },
  {
   "cell_type": "code",
   "execution_count": 33,
   "metadata": {},
   "outputs": [
    {
     "name": "stderr",
     "output_type": "stream",
     "text": [
      "C:\\Users\\dannb\\AppData\\Local\\Temp\\ipykernel_15236\\841766475.py:17: FutureWarning: The behavior of DataFrame concatenation with empty or all-NA entries is deprecated. In a future version, this will no longer exclude empty or all-NA columns when determining the result dtypes. To retain the old behavior, exclude the relevant entries before the concat operation.\n",
      "  self.data = pd.concat([self.data, pd.DataFrame({\n"
     ]
    }
   ],
   "source": [
    "\n",
    "tracker.add_record(\"2024-01-23\", \"Rent\", math.inf, \"Expense\")"
   ]
  },
  {
   "cell_type": "code",
   "execution_count": 34,
   "metadata": {},
   "outputs": [
    {
     "name": "stdout",
     "output_type": "stream",
     "text": [
      "\n",
      "*** Monthly Summary ***\n",
      "Total Income: $0.00\n",
      "Total Expenses: $inf\n",
      "Surplus/Deficit: $-inf\n"
     ]
    }
   ],
   "source": [
    "tracker.display_summary()"
   ]
  },
  {
   "cell_type": "code",
   "execution_count": null,
   "metadata": {},
   "outputs": [],
   "source": []
  }
 ],
 "metadata": {
  "kernelspec": {
   "display_name": "Python 3",
   "language": "python",
   "name": "python3"
  },
  "language_info": {
   "codemirror_mode": {
    "name": "ipython",
    "version": 3
   },
   "file_extension": ".py",
   "mimetype": "text/x-python",
   "name": "python",
   "nbconvert_exporter": "python",
   "pygments_lexer": "ipython3",
   "version": "3.11.9"
  }
 },
 "nbformat": 4,
 "nbformat_minor": 2
}
